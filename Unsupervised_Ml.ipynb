{
  "nbformat": 4,
  "nbformat_minor": 0,
  "metadata": {
    "colab": {
      "name": "Unsupervised Ml",
      "provenance": [],
      "collapsed_sections": [],
      "authorship_tag": "ABX9TyMwyljxsbdPamrZwIHKqu48",
      "include_colab_link": true
    },
    "kernelspec": {
      "name": "python3",
      "display_name": "Python 3"
    },
    "language_info": {
      "name": "python"
    }
  },
  "cells": [
    {
      "cell_type": "markdown",
      "metadata": {
        "id": "view-in-github",
        "colab_type": "text"
      },
      "source": [
        "<a href=\"https://colab.research.google.com/github/FayElhassan/Data-Science-and-Business-analytics-TSF/blob/main/Unsupervised_Ml.ipynb\" target=\"_parent\"><img src=\"https://colab.research.google.com/assets/colab-badge.svg\" alt=\"Open In Colab\"/></a>"
      ]
    },
    {
      "cell_type": "code",
      "metadata": {
        "id": "yoXgYaR0OHyk"
      },
      "source": [
        "### Fay Elhassan \n",
        "### Unsupervised ML \n",
        "### predict the optimum number of clusters and represent it visually "
      ],
      "execution_count": 3,
      "outputs": []
    },
    {
      "cell_type": "code",
      "metadata": {
        "id": "yd8XPBh6OdlC"
      },
      "source": [
        "#Importing the libararies\n",
        "import numpy as np \n",
        "import pandas as pd\n",
        "import matplotlib.pyplot as plt\n",
        "from sklearn import datasets\n",
        "\n",
        "#load the dataset"
      ],
      "execution_count": null,
      "outputs": []
    }
  ]
}